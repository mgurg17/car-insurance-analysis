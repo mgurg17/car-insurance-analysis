{
 "cells": [
  {
   "cell_type": "markdown",
   "metadata": {},
   "source": [
    "# Exploratory analysis of Insurify Data #"
   ]
  },
  {
   "cell_type": "code",
   "execution_count": 1,
   "metadata": {},
   "outputs": [],
   "source": [
    "import numpy as np\n",
    "import pandas as pd\n",
    "import matplotlib.pyplot as plt"
   ]
  },
  {
   "cell_type": "code",
   "execution_count": 28,
   "metadata": {},
   "outputs": [
    {
     "data": {
      "text/plain": [
       "((42, 46),\n",
       " 2021-01                         float64\n",
       " 2021-02                         float64\n",
       " 2021-03                         float64\n",
       " 2021-04                         float64\n",
       " 2021-05                         float64\n",
       " 2021-06                         float64\n",
       " 2021-07                         float64\n",
       " 2021-08                         float64\n",
       " 2021-09                         float64\n",
       " 2021-10                         float64\n",
       " 2021-11                         float64\n",
       " 2021-12                         float64\n",
       " 2022-01                         float64\n",
       " 2022-02                         float64\n",
       " 2022-03                         float64\n",
       " 2022-04                         float64\n",
       " 2022-05                         float64\n",
       " 2022-06                         float64\n",
       " 2022-07                         float64\n",
       " 2022-08                         float64\n",
       " 2022-09                         float64\n",
       " 2022-10                         float64\n",
       " 2022-11                         float64\n",
       " 2022-12                         float64\n",
       " 2023-01                         float64\n",
       " 2023-02                         float64\n",
       " 2023-03                         float64\n",
       " 2023-04                         float64\n",
       " 2023-05                         float64\n",
       " 2023-06                         float64\n",
       " 2023-07                         float64\n",
       " 2023-08                         float64\n",
       " 2023-09                         float64\n",
       " 2023-10                         float64\n",
       " 2023-11                         float64\n",
       " 2023-12                         float64\n",
       " 2024-01                         float64\n",
       " 2024-02                         float64\n",
       " 2024-03                         float64\n",
       " 2024-04                         float64\n",
       " 2024-05                         float64\n",
       " avg_yearly_miles                float64\n",
       " drivers_with_speeding_ticket    float64\n",
       " drivers_with_accident           float64\n",
       " drivers_with_dui                float64\n",
       " drivers_with_incident           float64\n",
       " dtype: object)"
      ]
     },
     "execution_count": 28,
     "metadata": {},
     "output_type": "execute_result"
    }
   ],
   "source": [
    "# Load in data and drop unneccesary columns\n",
    "insurance = pd.read_csv('data/auto_insurance_rates_by_state_000.csv')\n",
    "incidents = pd.read_csv('data/driving_incident_rates_by_state_000.csv')\n",
    "incidents = incidents.drop(labels=['last_updated_on', 'state_name'], axis='columns')\n",
    "insurance = insurance.drop(['state_name'], axis='columns')\n",
    "\n",
    "# Grab non id columns, set others to floats, make id the index\n",
    "incidents_columns = incidents.columns.difference(['state_id'])\n",
    "insurance_columns = insurance.columns.difference(['state_id'])\n",
    "incidents[incidents_columns] = incidents[incidents_columns].astype(float)\n",
    "insurance[insurance_columns] = insurance[insurance_columns].astype(float)\n",
    "incidents = incidents.set_index('state_id')\n",
    "insurance = insurance.set_index('state_id')\n",
    "\n",
    "# insurance.shape, incidents.shape, insurance.dtypes, incidents.dtypes\n",
    "\n",
    "# Join the two frames together for the states present in both\n",
    "data = insurance.join(other=incidents, on='state_id', how='inner')\n",
    "\n",
    "data.shape, data.dtypes"
   ]
  },
  {
   "cell_type": "code",
   "execution_count": null,
   "metadata": {},
   "outputs": [],
   "source": [
    "\n",
    "    "
   ]
  }
 ],
 "metadata": {
  "kernelspec": {
   "display_name": "Python 3",
   "language": "python",
   "name": "python3"
  },
  "language_info": {
   "codemirror_mode": {
    "name": "ipython",
    "version": 3
   },
   "file_extension": ".py",
   "mimetype": "text/x-python",
   "name": "python",
   "nbconvert_exporter": "python",
   "pygments_lexer": "ipython3",
   "version": "3.11.5"
  }
 },
 "nbformat": 4,
 "nbformat_minor": 2
}
